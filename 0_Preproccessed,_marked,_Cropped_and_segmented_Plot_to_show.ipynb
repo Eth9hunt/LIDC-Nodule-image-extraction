{
  "cells": [
    {
      "cell_type": "code",
      "execution_count": 160,
      "metadata": {
        "colab": {
          "base_uri": "https://localhost:8080/"
        },
        "id": "s-ltMGzLi7L9",
        "outputId": "0b8e8a21-1af4-4418-d0e9-aca18a29b378"
      },
      "outputs": [
        {
          "output_type": "stream",
          "name": "stdout",
          "text": [
            "Looking in indexes: https://pypi.org/simple, https://us-python.pkg.dev/colab-wheels/public/simple/\n",
            "Requirement already satisfied: pylidc in /usr/local/lib/python3.10/dist-packages (0.2.3)\n",
            "Requirement already satisfied: sqlalchemy>=1.1.5 in /usr/local/lib/python3.10/dist-packages (from pylidc) (2.0.10)\n",
            "Requirement already satisfied: numpy>=1.12.0 in /usr/local/lib/python3.10/dist-packages (from pylidc) (1.22.4)\n",
            "Requirement already satisfied: scipy>=0.18.1 in /usr/local/lib/python3.10/dist-packages (from pylidc) (1.10.1)\n",
            "Requirement already satisfied: matplotlib>=2.0.0 in /usr/local/lib/python3.10/dist-packages (from pylidc) (3.7.1)\n",
            "Requirement already satisfied: pydicom>=1.0.0 in /usr/local/lib/python3.10/dist-packages (from pylidc) (2.3.1)\n",
            "Requirement already satisfied: scikit-image>=0.13 in /usr/local/lib/python3.10/dist-packages (from pylidc) (0.19.3)\n",
            "Requirement already satisfied: contourpy>=1.0.1 in /usr/local/lib/python3.10/dist-packages (from matplotlib>=2.0.0->pylidc) (1.0.7)\n",
            "Requirement already satisfied: cycler>=0.10 in /usr/local/lib/python3.10/dist-packages (from matplotlib>=2.0.0->pylidc) (0.11.0)\n",
            "Requirement already satisfied: fonttools>=4.22.0 in /usr/local/lib/python3.10/dist-packages (from matplotlib>=2.0.0->pylidc) (4.39.3)\n",
            "Requirement already satisfied: kiwisolver>=1.0.1 in /usr/local/lib/python3.10/dist-packages (from matplotlib>=2.0.0->pylidc) (1.4.4)\n",
            "Requirement already satisfied: packaging>=20.0 in /usr/local/lib/python3.10/dist-packages (from matplotlib>=2.0.0->pylidc) (23.1)\n",
            "Requirement already satisfied: pillow>=6.2.0 in /usr/local/lib/python3.10/dist-packages (from matplotlib>=2.0.0->pylidc) (8.4.0)\n",
            "Requirement already satisfied: pyparsing>=2.3.1 in /usr/local/lib/python3.10/dist-packages (from matplotlib>=2.0.0->pylidc) (3.0.9)\n",
            "Requirement already satisfied: python-dateutil>=2.7 in /usr/local/lib/python3.10/dist-packages (from matplotlib>=2.0.0->pylidc) (2.8.2)\n",
            "Requirement already satisfied: networkx>=2.2 in /usr/local/lib/python3.10/dist-packages (from scikit-image>=0.13->pylidc) (3.1)\n",
            "Requirement already satisfied: imageio>=2.4.1 in /usr/local/lib/python3.10/dist-packages (from scikit-image>=0.13->pylidc) (2.25.1)\n",
            "Requirement already satisfied: tifffile>=2019.7.26 in /usr/local/lib/python3.10/dist-packages (from scikit-image>=0.13->pylidc) (2023.4.12)\n",
            "Requirement already satisfied: PyWavelets>=1.1.1 in /usr/local/lib/python3.10/dist-packages (from scikit-image>=0.13->pylidc) (1.4.1)\n",
            "Requirement already satisfied: typing-extensions>=4.2.0 in /usr/local/lib/python3.10/dist-packages (from sqlalchemy>=1.1.5->pylidc) (4.5.0)\n",
            "Requirement already satisfied: greenlet!=0.4.17 in /usr/local/lib/python3.10/dist-packages (from sqlalchemy>=1.1.5->pylidc) (2.0.2)\n",
            "Requirement already satisfied: six>=1.5 in /usr/local/lib/python3.10/dist-packages (from python-dateutil>=2.7->matplotlib>=2.0.0->pylidc) (1.16.0)\n"
          ]
        }
      ],
      "source": [
        "!pip install pylidc"
      ]
    },
    {
      "cell_type": "code",
      "execution_count": 161,
      "metadata": {
        "colab": {
          "base_uri": "https://localhost:8080/"
        },
        "id": "KmQvpWOvi76j",
        "outputId": "c9269517-2e1f-436c-a533-bd7222b72118"
      },
      "outputs": [
        {
          "output_type": "stream",
          "name": "stdout",
          "text": [
            "Drive already mounted at /content/drive; to attempt to forcibly remount, call drive.mount(\"/content/drive\", force_remount=True).\n"
          ]
        }
      ],
      "source": [
        "from google.colab import drive\n",
        "drive.mount('/content/drive')"
      ]
    },
    {
      "cell_type": "code",
      "execution_count": 162,
      "metadata": {
        "id": "nGnsf6v4Pawa"
      },
      "outputs": [],
      "source": [
        "import pylidc as pl\n",
        "import matplotlib.pyplot as plt\n",
        "from tqdm import tqdm\n",
        "\n",
        "ann = pl.query(pl.Annotation).all()\n"
      ]
    },
    {
      "cell_type": "code",
      "execution_count": 163,
      "metadata": {
        "colab": {
          "base_uri": "https://localhost:8080/"
        },
        "id": "dBW2lM_QEKG6",
        "outputId": "557e87cf-b4f6-4fcd-9e07-cfea76ad816d"
      },
      "outputs": [
        {
          "output_type": "stream",
          "name": "stdout",
          "text": [
            "patient_ID LIDC-IDRI-0154\n"
          ]
        }
      ],
      "source": [
        "s=10\n",
        "\n",
        "scans_i = pl.query(pl.Scan).all()\n",
        "patient_ID=scans_i[s].patient_id\n",
        "print('patient_ID', patient_ID)"
      ]
    },
    {
      "cell_type": "code",
      "execution_count": 164,
      "metadata": {
        "colab": {
          "base_uri": "https://localhost:8080/"
        },
        "id": "mmIOQ2UwD0Bm",
        "outputId": "c71f01fb-41a2-4dd0-fced-f936f16e59b9"
      },
      "outputs": [
        {
          "output_type": "stream",
          "name": "stderr",
          "text": [
            "\r  0%|          | 0/8 [00:00<?, ?it/s]"
          ]
        },
        {
          "output_type": "stream",
          "name": "stdout",
          "text": [
            "Loading dicom files ... This may take a moment.\n"
          ]
        },
        {
          "output_type": "stream",
          "name": "stderr",
          "text": [
            "\r 12%|█▎        | 1/8 [00:01<00:11,  1.65s/it]"
          ]
        },
        {
          "output_type": "stream",
          "name": "stdout",
          "text": [
            "Saved /content/drive/MyDrive/16.05.2023_plot multiple images of slice/image_slice_0.png\n",
            "Loading dicom files ... This may take a moment.\n"
          ]
        },
        {
          "output_type": "stream",
          "name": "stderr",
          "text": [
            "\r 25%|██▌       | 2/8 [00:03<00:09,  1.59s/it]"
          ]
        },
        {
          "output_type": "stream",
          "name": "stdout",
          "text": [
            "Saved /content/drive/MyDrive/16.05.2023_plot multiple images of slice/image_slice_1.png\n",
            "Loading dicom files ... This may take a moment.\n"
          ]
        },
        {
          "output_type": "stream",
          "name": "stderr",
          "text": [
            "\r 38%|███▊      | 3/8 [00:05<00:08,  1.71s/it]"
          ]
        },
        {
          "output_type": "stream",
          "name": "stdout",
          "text": [
            "Saved /content/drive/MyDrive/16.05.2023_plot multiple images of slice/image_slice_2.png\n",
            "Loading dicom files ... This may take a moment.\n"
          ]
        },
        {
          "output_type": "stream",
          "name": "stderr",
          "text": [
            "\r 50%|█████     | 4/8 [00:06<00:06,  1.65s/it]"
          ]
        },
        {
          "output_type": "stream",
          "name": "stdout",
          "text": [
            "Saved /content/drive/MyDrive/16.05.2023_plot multiple images of slice/image_slice_3.png\n",
            "Loading dicom files ... This may take a moment.\n"
          ]
        },
        {
          "output_type": "stream",
          "name": "stderr",
          "text": [
            "\r 62%|██████▎   | 5/8 [00:07<00:04,  1.54s/it]"
          ]
        },
        {
          "output_type": "stream",
          "name": "stdout",
          "text": [
            "Saved /content/drive/MyDrive/16.05.2023_plot multiple images of slice/image_slice_4.png\n",
            "Loading dicom files ... This may take a moment.\n"
          ]
        },
        {
          "output_type": "stream",
          "name": "stderr",
          "text": [
            "\r 75%|███████▌  | 6/8 [00:10<00:03,  1.73s/it]"
          ]
        },
        {
          "output_type": "stream",
          "name": "stdout",
          "text": [
            "Saved /content/drive/MyDrive/16.05.2023_plot multiple images of slice/image_slice_5.png\n",
            "Loading dicom files ... This may take a moment.\n"
          ]
        },
        {
          "output_type": "stream",
          "name": "stderr",
          "text": [
            "\r 88%|████████▊ | 7/8 [00:11<00:01,  1.72s/it]"
          ]
        },
        {
          "output_type": "stream",
          "name": "stdout",
          "text": [
            "Saved /content/drive/MyDrive/16.05.2023_plot multiple images of slice/image_slice_6.png\n",
            "Loading dicom files ... This may take a moment.\n"
          ]
        },
        {
          "output_type": "stream",
          "name": "stderr",
          "text": [
            "100%|██████████| 8/8 [00:13<00:00,  1.73s/it]"
          ]
        },
        {
          "output_type": "stream",
          "name": "stdout",
          "text": [
            "Saved /content/drive/MyDrive/16.05.2023_plot multiple images of slice/image_slice_7.png\n"
          ]
        },
        {
          "output_type": "stream",
          "name": "stderr",
          "text": [
            "\n"
          ]
        }
      ],
      "source": [
        "import os\n",
        "import numpy as np\n",
        "\n",
        "image_list=[]\n",
        "slice_num=[]\n",
        "save_dir='/content/drive/MyDrive/16.05.2023_plot multiple images of slice'\n",
        "for i in tqdm(range (len(ann[s].contours))):\n",
        "\n",
        "  vol = ann[s].scan.to_volume()\n",
        "  con = ann[s].contours[3]\n",
        "\n",
        "  k = con.image_k_position\n",
        "  ii,jj = ann[s].contours[3].to_matrix(include_k=False).T\n",
        "\n",
        "  plt.imshow(vol[:,:,k], cmap=plt.cm.gray)\n",
        "  plt.plot(jj, ii, '-r', lw=1, label=\"Nodule Boundary\")\n",
        "  plt.legend()\n",
        "\n",
        "  # Save the figure with index number in the file name\n",
        "  filename = os.path.join(save_dir, f'image_slice_{i}.png')\n",
        "  plt.savefig(filename)\n",
        "  plt.close()\n",
        "\n",
        "  # Append the generated image to the list\n",
        "  image = plt.imread(filename)\n",
        "  image_list.append(image)\n",
        "\n",
        "  print(f'Saved {filename}')\n",
        "  slice_num.append(k)\n",
        "\n",
        "# Convert the image list to a numpy array\n",
        "image_array = np.array(image_list)"
      ]
    },
    {
      "cell_type": "code",
      "source": [
        "import os\n",
        "import numpy as np\n",
        "\n",
        "image_list=[]\n",
        "slice_num=[]\n",
        "save_dir='/content/drive/MyDrive/16.05.2023_plot multiple images of slice'\n",
        "for i in tqdm(range (len(ann[s].contours))):\n",
        "\n",
        "  vol = ann[s].scan.to_volume()\n",
        "  con = ann[s].contours[3]\n",
        "\n",
        "  k = con.image_k_position\n",
        "  ii,jj = ann[s].contours[3].to_matrix(include_k=False).T\n",
        "\n",
        "  plt.imshow(vol[:,:,k], cmap=plt.cm.gray)\n",
        "  plt.plot(jj, ii, '-r', lw=1, label=\"Nodule Boundary\")\n",
        "  plt.legend()\n",
        "\n",
        "  # Save the figure with index number in the file name\n",
        "  filename = os.path.join(save_dir, f'image_slice_{i}.png')\n",
        "  plt.savefig(filename)\n",
        "  plt.close()\n",
        "\n",
        "  # Append the generated image to the list\n",
        "  image = plt.imread(filename)\n",
        "  image_list.append(image)\n",
        "\n",
        "  print(f'Saved {filename}')\n",
        "  slice_num.append(k)\n",
        "\n",
        "# Convert the image list to a numpy array\n",
        "image_array = np.array(image_list)"
      ],
      "metadata": {
        "colab": {
          "base_uri": "https://localhost:8080/"
        },
        "id": "yhNm5YuYy2t3",
        "outputId": "8e644de1-45dc-42ab-c241-a24592926e98"
      },
      "execution_count": 165,
      "outputs": [
        {
          "output_type": "stream",
          "name": "stderr",
          "text": [
            "\r  0%|          | 0/8 [00:00<?, ?it/s]"
          ]
        },
        {
          "output_type": "stream",
          "name": "stdout",
          "text": [
            "Loading dicom files ... This may take a moment.\n"
          ]
        },
        {
          "output_type": "stream",
          "name": "stderr",
          "text": [
            "\r 12%|█▎        | 1/8 [00:02<00:15,  2.23s/it]"
          ]
        },
        {
          "output_type": "stream",
          "name": "stdout",
          "text": [
            "Saved /content/drive/MyDrive/16.05.2023_plot multiple images of slice/image_slice_0.png\n",
            "Loading dicom files ... This may take a moment.\n"
          ]
        },
        {
          "output_type": "stream",
          "name": "stderr",
          "text": [
            "\r 25%|██▌       | 2/8 [00:05<00:17,  2.86s/it]"
          ]
        },
        {
          "output_type": "stream",
          "name": "stdout",
          "text": [
            "Saved /content/drive/MyDrive/16.05.2023_plot multiple images of slice/image_slice_1.png\n",
            "Loading dicom files ... This may take a moment.\n"
          ]
        },
        {
          "output_type": "stream",
          "name": "stderr",
          "text": [
            "\r 38%|███▊      | 3/8 [00:08<00:15,  3.04s/it]"
          ]
        },
        {
          "output_type": "stream",
          "name": "stdout",
          "text": [
            "Saved /content/drive/MyDrive/16.05.2023_plot multiple images of slice/image_slice_2.png\n",
            "Loading dicom files ... This may take a moment.\n"
          ]
        },
        {
          "output_type": "stream",
          "name": "stderr",
          "text": [
            "\r 50%|█████     | 4/8 [00:10<00:10,  2.67s/it]"
          ]
        },
        {
          "output_type": "stream",
          "name": "stdout",
          "text": [
            "Saved /content/drive/MyDrive/16.05.2023_plot multiple images of slice/image_slice_3.png\n",
            "Loading dicom files ... This may take a moment.\n"
          ]
        },
        {
          "output_type": "stream",
          "name": "stderr",
          "text": [
            "\r 62%|██████▎   | 5/8 [00:13<00:07,  2.51s/it]"
          ]
        },
        {
          "output_type": "stream",
          "name": "stdout",
          "text": [
            "Saved /content/drive/MyDrive/16.05.2023_plot multiple images of slice/image_slice_4.png\n",
            "Loading dicom files ... This may take a moment.\n"
          ]
        },
        {
          "output_type": "stream",
          "name": "stderr",
          "text": [
            "\r 75%|███████▌  | 6/8 [00:14<00:04,  2.30s/it]"
          ]
        },
        {
          "output_type": "stream",
          "name": "stdout",
          "text": [
            "Saved /content/drive/MyDrive/16.05.2023_plot multiple images of slice/image_slice_5.png\n",
            "Loading dicom files ... This may take a moment.\n"
          ]
        },
        {
          "output_type": "stream",
          "name": "stderr",
          "text": [
            "\r 88%|████████▊ | 7/8 [00:17<00:02,  2.20s/it]"
          ]
        },
        {
          "output_type": "stream",
          "name": "stdout",
          "text": [
            "Saved /content/drive/MyDrive/16.05.2023_plot multiple images of slice/image_slice_6.png\n",
            "Loading dicom files ... This may take a moment.\n"
          ]
        },
        {
          "output_type": "stream",
          "name": "stderr",
          "text": [
            "100%|██████████| 8/8 [00:18<00:00,  2.34s/it]"
          ]
        },
        {
          "output_type": "stream",
          "name": "stdout",
          "text": [
            "Saved /content/drive/MyDrive/16.05.2023_plot multiple images of slice/image_slice_7.png\n"
          ]
        },
        {
          "output_type": "stream",
          "name": "stderr",
          "text": [
            "\n"
          ]
        }
      ]
    },
    {
      "cell_type": "code",
      "execution_count": 166,
      "metadata": {
        "id": "gdjzqFNXLB51",
        "colab": {
          "base_uri": "https://localhost:8080/"
        },
        "outputId": "ff692a27-9d6c-4368-8868-7c3c14f0762a"
      },
      "outputs": [
        {
          "output_type": "stream",
          "name": "stderr",
          "text": [
            "\r  0%|          | 0/8 [00:00<?, ?it/s]"
          ]
        },
        {
          "output_type": "stream",
          "name": "stdout",
          "text": [
            "Loading dicom files ... This may take a moment.\n"
          ]
        },
        {
          "output_type": "stream",
          "name": "stderr",
          "text": [
            "\r 12%|█▎        | 1/8 [00:01<00:10,  1.46s/it]"
          ]
        },
        {
          "output_type": "stream",
          "name": "stdout",
          "text": [
            "Saved /content/drive/MyDrive/16.05.2023_plot multiple images of slice/image_nod_0.png\n",
            "Loading dicom files ... This may take a moment.\n"
          ]
        },
        {
          "output_type": "stream",
          "name": "stderr",
          "text": [
            "\r 25%|██▌       | 2/8 [00:02<00:08,  1.46s/it]"
          ]
        },
        {
          "output_type": "stream",
          "name": "stdout",
          "text": [
            "Saved /content/drive/MyDrive/16.05.2023_plot multiple images of slice/image_nod_1.png\n",
            "Loading dicom files ... This may take a moment.\n"
          ]
        },
        {
          "output_type": "stream",
          "name": "stderr",
          "text": [
            "\r 38%|███▊      | 3/8 [00:04<00:06,  1.37s/it]"
          ]
        },
        {
          "output_type": "stream",
          "name": "stdout",
          "text": [
            "Saved /content/drive/MyDrive/16.05.2023_plot multiple images of slice/image_nod_2.png\n",
            "Loading dicom files ... This may take a moment.\n"
          ]
        },
        {
          "output_type": "stream",
          "name": "stderr",
          "text": [
            "\r 50%|█████     | 4/8 [00:05<00:05,  1.33s/it]"
          ]
        },
        {
          "output_type": "stream",
          "name": "stdout",
          "text": [
            "Saved /content/drive/MyDrive/16.05.2023_plot multiple images of slice/image_nod_3.png\n",
            "Loading dicom files ... This may take a moment.\n"
          ]
        },
        {
          "output_type": "stream",
          "name": "stderr",
          "text": [
            "\r 62%|██████▎   | 5/8 [00:06<00:04,  1.39s/it]"
          ]
        },
        {
          "output_type": "stream",
          "name": "stdout",
          "text": [
            "Saved /content/drive/MyDrive/16.05.2023_plot multiple images of slice/image_nod_4.png\n",
            "Loading dicom files ... This may take a moment.\n"
          ]
        },
        {
          "output_type": "stream",
          "name": "stderr",
          "text": [
            "\r 75%|███████▌  | 6/8 [00:08<00:02,  1.35s/it]"
          ]
        },
        {
          "output_type": "stream",
          "name": "stdout",
          "text": [
            "Saved /content/drive/MyDrive/16.05.2023_plot multiple images of slice/image_nod_5.png\n",
            "Loading dicom files ... This may take a moment.\n"
          ]
        },
        {
          "output_type": "stream",
          "name": "stderr",
          "text": [
            "\r 88%|████████▊ | 7/8 [00:09<00:01,  1.44s/it]"
          ]
        },
        {
          "output_type": "stream",
          "name": "stdout",
          "text": [
            "Saved /content/drive/MyDrive/16.05.2023_plot multiple images of slice/image_nod_6.png\n",
            "Loading dicom files ... This may take a moment.\n"
          ]
        },
        {
          "output_type": "stream",
          "name": "stderr",
          "text": [
            "100%|██████████| 8/8 [00:11<00:00,  1.39s/it]"
          ]
        },
        {
          "output_type": "stream",
          "name": "stdout",
          "text": [
            "Saved /content/drive/MyDrive/16.05.2023_plot multiple images of slice/image_nod_7.png\n"
          ]
        },
        {
          "output_type": "stream",
          "name": "stderr",
          "text": [
            "\n"
          ]
        }
      ],
      "source": [
        "# CT image Slice\n",
        "import os\n",
        "import numpy as np\n",
        "padding = [(30,10), (10,25), (0,0)]\n",
        "image_list=[]\n",
        "slice_num=[]\n",
        "save_dir='/content/drive/MyDrive/16.05.2023_plot multiple images of slice'\n",
        "for i in tqdm(range (len(ann[s].contours))):\n",
        "\n",
        "  mask = ann[s].boolean_mask(pad=padding)\n",
        "  bbox = ann[s].bbox(pad=padding)\n",
        "\n",
        "\n",
        "  vol = ann[s].scan.to_volume()\n",
        "  con = ann[s].contours[3]\n",
        "\n",
        "  k = con.image_k_position\n",
        "\n",
        "  cc=mask[:,:,i].astype(int)\n",
        "  vv=vol[bbox][:,:,i].astype(int)\n",
        "\n",
        "  image=vv\n",
        "  zz = (image - np.min(image)) / (np.max(image) - np.min(image))\n",
        "  tt=zz*cc\n",
        "\n",
        "\n",
        "  plt.imshow(tt, cmap=plt.cm.gray)\n",
        "\n",
        "\n",
        "  # Save the figure with index number in the file name\n",
        "  filename = os.path.join(save_dir, f'image_nod_{i}.png')\n",
        "  plt.savefig(filename)\n",
        "  plt.close()\n",
        "\n",
        "  # Append the generated image to the list\n",
        "  image = plt.imread(filename)\n",
        "  image_list.append(image)\n",
        "\n",
        "  print(f'Saved {filename}')\n",
        "  slice_num.append(k)\n",
        "\n",
        "# Convert the image list to a numpy array\n",
        "image_array_2 = np.array(image_list)"
      ]
    },
    {
      "cell_type": "code",
      "source": [
        "# nodule segmented\n",
        "import os\n",
        "import numpy as np\n",
        "padding = [(30,10), (10,25), (0,0)]\n",
        "image_list=[]\n",
        "slice_num=[]\n",
        "save_dir='/content/drive/MyDrive/16.05.2023_plot multiple images of slice'\n",
        "for i in tqdm(range (len(ann[s].contours))):\n",
        "\n",
        "  mask = ann[s].boolean_mask(pad=padding)\n",
        "  bbox = ann[s].bbox(pad=padding)\n",
        "\n",
        "\n",
        "  vol = ann[s].scan.to_volume()\n",
        "  con = ann[s].contours[3]\n",
        "\n",
        "  k = con.image_k_position\n",
        "\n",
        "  cc=mask[:,:,i].astype(int)\n",
        "  vv=vol[bbox][:,:,i].astype(int)\n",
        "\n",
        "  image=vv\n",
        "  zz = (image - np.min(image)) / (np.max(image) - np.min(image))\n",
        "  tt=zz*cc\n",
        "\n",
        "\n",
        "  plt.imshow(tt, cmap=plt.cm.gray)\n",
        "\n",
        "\n",
        "  # Save the figure with index number in the file name\n",
        "  filename = os.path.join(save_dir, f'image_nod_{i}.png')\n",
        "  plt.savefig(filename)\n",
        "  plt.close()\n",
        "\n",
        "  # Append the generated image to the list\n",
        "  image = plt.imread(filename)\n",
        "  image_list.append(image)\n",
        "\n",
        "  print(f'Saved {filename}')\n",
        "  slice_num.append(k)\n",
        "\n",
        "# Convert the image list to a numpy array\n",
        "image_array_2 = np.array(image_list)"
      ],
      "metadata": {
        "colab": {
          "base_uri": "https://localhost:8080/"
        },
        "id": "iRGx-qqD0CxT",
        "outputId": "ea4d37e9-a16d-4abb-e4bb-9b17c2b67694"
      },
      "execution_count": 167,
      "outputs": [
        {
          "output_type": "stream",
          "name": "stderr",
          "text": [
            "\r  0%|          | 0/8 [00:00<?, ?it/s]"
          ]
        },
        {
          "output_type": "stream",
          "name": "stdout",
          "text": [
            "Loading dicom files ... This may take a moment.\n"
          ]
        },
        {
          "output_type": "stream",
          "name": "stderr",
          "text": [
            "\r 12%|█▎        | 1/8 [00:01<00:10,  1.50s/it]"
          ]
        },
        {
          "output_type": "stream",
          "name": "stdout",
          "text": [
            "Saved /content/drive/MyDrive/16.05.2023_plot multiple images of slice/image_nod_0.png\n",
            "Loading dicom files ... This may take a moment.\n"
          ]
        },
        {
          "output_type": "stream",
          "name": "stderr",
          "text": [
            "\r 25%|██▌       | 2/8 [00:02<00:08,  1.41s/it]"
          ]
        },
        {
          "output_type": "stream",
          "name": "stdout",
          "text": [
            "Saved /content/drive/MyDrive/16.05.2023_plot multiple images of slice/image_nod_1.png\n",
            "Loading dicom files ... This may take a moment.\n"
          ]
        },
        {
          "output_type": "stream",
          "name": "stderr",
          "text": [
            "\r 38%|███▊      | 3/8 [00:05<00:10,  2.07s/it]"
          ]
        },
        {
          "output_type": "stream",
          "name": "stdout",
          "text": [
            "Saved /content/drive/MyDrive/16.05.2023_plot multiple images of slice/image_nod_2.png\n",
            "Loading dicom files ... This may take a moment.\n"
          ]
        },
        {
          "output_type": "stream",
          "name": "stderr",
          "text": [
            "\r 50%|█████     | 4/8 [00:08<00:09,  2.35s/it]"
          ]
        },
        {
          "output_type": "stream",
          "name": "stdout",
          "text": [
            "Saved /content/drive/MyDrive/16.05.2023_plot multiple images of slice/image_nod_3.png\n",
            "Loading dicom files ... This may take a moment.\n"
          ]
        },
        {
          "output_type": "stream",
          "name": "stderr",
          "text": [
            "\r 62%|██████▎   | 5/8 [00:10<00:06,  2.27s/it]"
          ]
        },
        {
          "output_type": "stream",
          "name": "stdout",
          "text": [
            "Saved /content/drive/MyDrive/16.05.2023_plot multiple images of slice/image_nod_4.png\n",
            "Loading dicom files ... This may take a moment.\n"
          ]
        },
        {
          "output_type": "stream",
          "name": "stderr",
          "text": [
            "\r 75%|███████▌  | 6/8 [00:12<00:04,  2.07s/it]"
          ]
        },
        {
          "output_type": "stream",
          "name": "stdout",
          "text": [
            "Saved /content/drive/MyDrive/16.05.2023_plot multiple images of slice/image_nod_5.png\n",
            "Loading dicom files ... This may take a moment.\n"
          ]
        },
        {
          "output_type": "stream",
          "name": "stderr",
          "text": [
            "\r 88%|████████▊ | 7/8 [00:13<00:01,  1.79s/it]"
          ]
        },
        {
          "output_type": "stream",
          "name": "stdout",
          "text": [
            "Saved /content/drive/MyDrive/16.05.2023_plot multiple images of slice/image_nod_6.png\n",
            "Loading dicom files ... This may take a moment.\n"
          ]
        },
        {
          "output_type": "stream",
          "name": "stderr",
          "text": [
            "100%|██████████| 8/8 [00:14<00:00,  1.84s/it]"
          ]
        },
        {
          "output_type": "stream",
          "name": "stdout",
          "text": [
            "Saved /content/drive/MyDrive/16.05.2023_plot multiple images of slice/image_nod_7.png\n"
          ]
        },
        {
          "output_type": "stream",
          "name": "stderr",
          "text": [
            "\n"
          ]
        }
      ]
    },
    {
      "cell_type": "code",
      "source": [
        "# nodule cropped\n",
        "import os\n",
        "import numpy as np\n",
        "padding = [(30,10), (10,25), (0,0)]\n",
        "image_list=[]\n",
        "slice_num=[]\n",
        "save_dir='/content/drive/MyDrive/16.05.2023_plot multiple images of slice'\n",
        "for i in tqdm(range (len(ann[s].contours))):\n",
        "\n",
        "  mask = ann[s].boolean_mask(pad=padding)\n",
        "  bbox = ann[s].bbox(pad=padding)\n",
        "\n",
        "\n",
        "  vol = ann[s].scan.to_volume()\n",
        "  con = ann[s].contours[3]\n",
        "\n",
        "  k = con.image_k_position\n",
        "\n",
        "  cc=mask[:,:,i].astype(int)\n",
        "  vv=vol[bbox][:,:,i].astype(int)\n",
        "\n",
        "  image=vv\n",
        "  zz = (image - np.min(image)) / (np.max(image) - np.min(image))\n",
        "  tt=zz*cc\n",
        "\n",
        "\n",
        "  plt.imshow(vv, cmap=plt.cm.gray)\n",
        "\n",
        "\n",
        "  # Save the figure with index number in the file name\n",
        "  filename = os.path.join(save_dir, f'image_nod_croped{i}.png')\n",
        "  plt.savefig(filename)\n",
        "  plt.close()\n",
        "\n",
        "  # Append the generated image to the list\n",
        "  image = plt.imread(filename)\n",
        "  image_list.append(image)\n",
        "\n",
        "  print(f'Saved {filename}')\n",
        "  slice_num.append(k)\n",
        "\n",
        "# Convert the image list to a numpy array\n",
        "image_array_3 = np.array(image_list)"
      ],
      "metadata": {
        "colab": {
          "base_uri": "https://localhost:8080/"
        },
        "id": "eDZSKZUM8xcR",
        "outputId": "f9d73da2-02fa-4d00-8a72-6ea47458a04b"
      },
      "execution_count": 168,
      "outputs": [
        {
          "output_type": "stream",
          "name": "stderr",
          "text": [
            "\r  0%|          | 0/8 [00:00<?, ?it/s]"
          ]
        },
        {
          "output_type": "stream",
          "name": "stdout",
          "text": [
            "Loading dicom files ... This may take a moment.\n"
          ]
        },
        {
          "output_type": "stream",
          "name": "stderr",
          "text": [
            "\r 12%|█▎        | 1/8 [00:01<00:08,  1.26s/it]"
          ]
        },
        {
          "output_type": "stream",
          "name": "stdout",
          "text": [
            "Saved /content/drive/MyDrive/16.05.2023_plot multiple images of slice/image_nod_croped0.png\n",
            "Loading dicom files ... This may take a moment.\n"
          ]
        },
        {
          "output_type": "stream",
          "name": "stderr",
          "text": [
            "\r 25%|██▌       | 2/8 [00:02<00:08,  1.35s/it]"
          ]
        },
        {
          "output_type": "stream",
          "name": "stdout",
          "text": [
            "Saved /content/drive/MyDrive/16.05.2023_plot multiple images of slice/image_nod_croped1.png\n",
            "Loading dicom files ... This may take a moment.\n"
          ]
        },
        {
          "output_type": "stream",
          "name": "stderr",
          "text": [
            "\r 38%|███▊      | 3/8 [00:04<00:07,  1.57s/it]"
          ]
        },
        {
          "output_type": "stream",
          "name": "stdout",
          "text": [
            "Saved /content/drive/MyDrive/16.05.2023_plot multiple images of slice/image_nod_croped2.png\n",
            "Loading dicom files ... This may take a moment.\n"
          ]
        },
        {
          "output_type": "stream",
          "name": "stderr",
          "text": [
            "\r 50%|█████     | 4/8 [00:05<00:06,  1.52s/it]"
          ]
        },
        {
          "output_type": "stream",
          "name": "stdout",
          "text": [
            "Saved /content/drive/MyDrive/16.05.2023_plot multiple images of slice/image_nod_croped3.png\n",
            "Loading dicom files ... This may take a moment.\n"
          ]
        },
        {
          "output_type": "stream",
          "name": "stderr",
          "text": [
            "\r 62%|██████▎   | 5/8 [00:07<00:04,  1.44s/it]"
          ]
        },
        {
          "output_type": "stream",
          "name": "stdout",
          "text": [
            "Saved /content/drive/MyDrive/16.05.2023_plot multiple images of slice/image_nod_croped4.png\n",
            "Loading dicom files ... This may take a moment.\n"
          ]
        },
        {
          "output_type": "stream",
          "name": "stderr",
          "text": [
            "\r 75%|███████▌  | 6/8 [00:08<00:02,  1.39s/it]"
          ]
        },
        {
          "output_type": "stream",
          "name": "stdout",
          "text": [
            "Saved /content/drive/MyDrive/16.05.2023_plot multiple images of slice/image_nod_croped5.png\n",
            "Loading dicom files ... This may take a moment.\n"
          ]
        },
        {
          "output_type": "stream",
          "name": "stderr",
          "text": [
            "\r 88%|████████▊ | 7/8 [00:09<00:01,  1.34s/it]"
          ]
        },
        {
          "output_type": "stream",
          "name": "stdout",
          "text": [
            "Saved /content/drive/MyDrive/16.05.2023_plot multiple images of slice/image_nod_croped6.png\n",
            "Loading dicom files ... This may take a moment.\n"
          ]
        },
        {
          "output_type": "stream",
          "name": "stderr",
          "text": [
            "100%|██████████| 8/8 [00:11<00:00,  1.41s/it]"
          ]
        },
        {
          "output_type": "stream",
          "name": "stdout",
          "text": [
            "Saved /content/drive/MyDrive/16.05.2023_plot multiple images of slice/image_nod_croped7.png\n"
          ]
        },
        {
          "output_type": "stream",
          "name": "stderr",
          "text": [
            "\n"
          ]
        }
      ]
    },
    {
      "cell_type": "code",
      "source": [
        "import matplotlib.pyplot as plt\n",
        "import numpy as np\n",
        "\n",
        "# Assuming you have an array of images with shape (n, 128, 128)\n",
        "images = image_array #slices\n",
        "\n",
        "# Create a subplot grid\n",
        "num_images = images.shape[0]\n",
        "rows = int(np.sqrt(num_images))\n",
        "cols = int(np.ceil(num_images / rows))\n",
        "\n",
        "# Plot the images in a single figure\n",
        "fig, axes = plt.subplots(rows, cols, figsize=(10, 3))\n",
        "\n",
        "for i, ax in enumerate(axes.flat):\n",
        "    if i < num_images:\n",
        "        ax.imshow(images[i], cmap='gray')\n",
        "        ax.axis('off')\n",
        "    else:\n",
        "        ax.axis('off')\n",
        "\n",
        "# Adjust the spacing between subplots\n",
        "plt.subplots_adjust(wspace=0, hspace=0)\n",
        "\n",
        "# Show the figure\n",
        "plt.show()"
      ],
      "metadata": {
        "colab": {
          "base_uri": "https://localhost:8080/",
          "height": 268
        },
        "id": "Sg40wQdU-ehk",
        "outputId": "70bb86ff-4ac5-4718-8527-37cab7ccddf4"
      },
      "execution_count": 169,
      "outputs": [
        {
          "output_type": "display_data",
          "data": {
            "text/plain": [
              "<Figure size 1000x300 with 8 Axes>"
            ],
            "image/png": "[encoded data removed]"
          },
          "metadata": {}
        }
      ]
    },
    {
      "cell_type": "code",
      "source": [
        "import matplotlib.pyplot as plt\n",
        "import numpy as np\n",
        "\n",
        "# Assuming you have an array of images with shape (n, 128, 128)\n",
        "images = image_array_3\n",
        "\n",
        "# Create a subplot grid\n",
        "num_images = images.shape[0]\n",
        "rows = int(np.sqrt(num_images))\n",
        "cols = int(np.ceil(num_images / rows))\n",
        "\n",
        "# Plot the images in a single figure\n",
        "fig, axes = plt.subplots(rows, cols, figsize=(10, 3))\n",
        "\n",
        "for i, ax in enumerate(axes.flat):\n",
        "    if i < num_images:\n",
        "        ax.imshow(images[i], cmap='gray')\n",
        "        ax.axis('off')\n",
        "    else:\n",
        "        ax.axis('off')\n",
        "\n",
        "# Adjust the spacing between subplots\n",
        "plt.subplots_adjust(wspace=0, hspace=0)\n",
        "\n",
        "# Show the figure\n",
        "plt.show()"
      ],
      "metadata": {
        "colab": {
          "base_uri": "https://localhost:8080/",
          "height": 268
        },
        "id": "Z73N7dOl80uf",
        "outputId": "573e30cd-f482-46fd-d03a-6c7f99ef3589"
      },
      "execution_count": 170,
      "outputs": [
        {
          "output_type": "display_data",
          "data": {
            "text/plain": [
              "<Figure size 1000x300 with 8 Axes>"
            ],
            "image/png": "[encoded data removed]"
          },
          "metadata": {}
        }
      ]
    },
    {
      "cell_type": "code",
      "source": [
        "#segmented nodule\n",
        "import matplotlib.pyplot as plt\n",
        "import numpy as np\n",
        "\n",
        "# Assuming you have an array of images with shape (n, 128, 128)\n",
        "images = image_array_2\n",
        "\n",
        "# Create a subplot grid\n",
        "num_images = images.shape[0]\n",
        "rows = int(np.sqrt(num_images))\n",
        "cols = int(np.ceil(num_images / rows))\n",
        "\n",
        "# Plot the images in a single figure\n",
        "fig, axes = plt.subplots(rows, cols, figsize=(10, 3))\n",
        "\n",
        "for i, ax in enumerate(axes.flat):\n",
        "    if i < num_images:\n",
        "        ax.imshow(images[i], cmap='gray')\n",
        "        ax.axis('off')\n",
        "    else:\n",
        "        ax.axis('off')\n",
        "\n",
        "# Adjust the spacing between subplots\n",
        "plt.subplots_adjust(wspace=0, hspace=0)\n",
        "\n",
        "# Show the figure\n",
        "plt.show()"
      ],
      "metadata": {
        "colab": {
          "base_uri": "https://localhost:8080/",
          "height": 268
        },
        "id": "GsLLWKw3-JHL",
        "outputId": "baa6a834-3f82-403d-89d8-6210cb996df3"
      },
      "execution_count": 171,
      "outputs": [
        {
          "output_type": "display_data",
          "data": {
            "text/plain": [
              "<Figure size 1000x300 with 8 Axes>"
            ],
            "image/png": "[encoded data removed]"
          },
          "metadata": {}
        }
      ]
    },
    {
      "cell_type": "code",
      "source": [],
      "metadata": {
        "id": "IRlEEc3K-qko"
      },
      "execution_count": 171,
      "outputs": []
    }
  ],
  "metadata": {
    "colab": {
      "provenance": []
    },
    "kernelspec": {
      "display_name": "Python 3",
      "name": "python3"
    },
    "language_info": {
      "name": "python"
    }
  },
  "nbformat": 4,
  "nbformat_minor": 0
}